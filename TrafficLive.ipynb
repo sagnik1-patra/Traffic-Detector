{
 "cells": [
  {
   "cell_type": "code",
   "execution_count": 1,
   "id": "6aebda68-3eb4-40a3-be23-48855b71faef",
   "metadata": {},
   "outputs": [
    {
     "name": "stdout",
     "output_type": "stream",
     "text": [
      "✅ Speed dataset loaded. Shape: (12, 8)\n",
      "📊 Average speed for Monday: 30.00 km/h\n",
      "🌐 Downloading Delhi road network from OSM...\n",
      "✅ Delhi road network loaded. Nodes: 183023 Edges: 498303\n",
      "✅ Speed data applied to OSM network edges.\n"
     ]
    },
    {
     "name": "stdin",
     "output_type": "stream",
     "text": [
      "Enter Start Location (e.g., India Gate, Delhi):  India Gate\n",
      "Enter End Location (e.g., Jama Masjid, Delhi):  Qutab Minar\n"
     ]
    },
    {
     "name": "stdout",
     "output_type": "stream",
     "text": [
      "📌 Start: India Gate at (28.6129332, 77.2294928)\n",
      "📌 End: Qutab Minar at (28.512951, 77.1864532)\n",
      "✅ Route found. Number of steps: 100\n",
      "✅ Map saved as C:\\Users\\sagni\\Downloads\\Road Traffic\\delhi_dynamic_least_congested_route.html\n",
      "🌍 Opening map in your default browser...\n"
     ]
    }
   ],
   "source": [
    "# 🚀 Delhi Traffic ML App: Dynamic Least Congested Route Finder\n",
    "\n",
    "# 📦 Install osmnx if not already installed\n",
    "try:\n",
    "    import osmnx as ox\n",
    "except ImportError:\n",
    "    !pip install osmnx\n",
    "    import osmnx as ox\n",
    "\n",
    "import geopandas as gpd\n",
    "import pandas as pd\n",
    "import numpy as np\n",
    "import networkx as nx\n",
    "import folium\n",
    "import webbrowser\n",
    "\n",
    "# 📂 Path to your speed dataset\n",
    "speed_csv_path = r\"C:\\Users\\sagni\\Downloads\\Road Traffic\\archive (1)\\new_delhi_traffic_dataset\\weekday_stats\\2024_week_day_speed_city.csv\"\n",
    "\n",
    "# 📥 Load speed dataset\n",
    "speed_df = pd.read_csv(speed_csv_path)\n",
    "print(\"✅ Speed dataset loaded. Shape:\", speed_df.shape)\n",
    "\n",
    "# 🧹 Clean speed dataset: strip \" km/h\" and convert to float\n",
    "days = ['Monday', 'Tuesday', 'Wednesday', 'Thursday', 'Friday', 'Saturday', 'Sunday']\n",
    "for day in days:\n",
    "    speed_df[day] = speed_df[day].str.replace(' km/h', '', regex=False).astype(float)\n",
    "\n",
    "# 📅 User selects day\n",
    "day_of_week = 'Monday'   # Change as needed\n",
    "mean_city_speed = speed_df[day_of_week].mean()\n",
    "print(f\"📊 Average speed for {day_of_week}: {mean_city_speed:.2f} km/h\")\n",
    "\n",
    "# 🌐 Download full road network of Delhi from OpenStreetMap\n",
    "print(\"🌐 Downloading Delhi road network from OSM...\")\n",
    "G = ox.graph_from_place(\"Delhi, India\", network_type='drive')\n",
    "print(\"✅ Delhi road network loaded. Nodes:\", len(G.nodes), \"Edges:\", len(G.edges))\n",
    "\n",
    "# 🏎️ Add speed limits to edges from speed_df (simulate mapping)\n",
    "for u, v, k, data in G.edges(keys=True, data=True):\n",
    "    data['speed_kmh'] = mean_city_speed\n",
    "    length_m = data.get('length', 100)  # fallback 100m if no length\n",
    "    speed_ms = data['speed_kmh'] * 1000 / 3600\n",
    "    data['travel_time_sec'] = length_m / speed_ms if speed_ms > 0 else 9999\n",
    "\n",
    "print(\"✅ Speed data applied to OSM network edges.\")\n",
    "\n",
    "# 📍 Input origin and destination\n",
    "start_location = input(\"Enter Start Location (e.g., India Gate, Delhi): \")\n",
    "end_location = input(\"Enter End Location (e.g., Jama Masjid, Delhi): \")\n",
    "\n",
    "# 🗺️ Geocode locations to lat/lon\n",
    "orig_point = ox.geocoder.geocode(start_location)\n",
    "dest_point = ox.geocoder.geocode(end_location)\n",
    "\n",
    "print(f\"📌 Start: {start_location} at {orig_point}\")\n",
    "print(f\"📌 End: {end_location} at {dest_point}\")\n",
    "\n",
    "# 🔎 Find nearest nodes in graph\n",
    "orig_node = ox.distance.nearest_nodes(G, orig_point[1], orig_point[0])\n",
    "dest_node = ox.distance.nearest_nodes(G, dest_point[1], dest_point[0])\n",
    "\n",
    "# 🛣️ Compute least congested path (Dijkstra using travel_time_sec)\n",
    "route = nx.shortest_path(G, orig_node, dest_node, weight='travel_time_sec')\n",
    "print(\"✅ Route found. Number of steps:\", len(route))\n",
    "\n",
    "# 🌍 Visualize route with Folium\n",
    "m = folium.Map(location=orig_point, zoom_start=13)\n",
    "route_coords = [(G.nodes[n]['y'], G.nodes[n]['x']) for n in route]\n",
    "folium.PolyLine(route_coords, color=\"blue\", weight=5, tooltip=\"Fastest Route\").add_to(m)\n",
    "folium.Marker(orig_point, popup=f\"Start: {start_location}\", icon=folium.Icon(color=\"green\")).add_to(m)\n",
    "folium.Marker(dest_point, popup=f\"End: {end_location}\", icon=folium.Icon(color=\"red\")).add_to(m)\n",
    "\n",
    "# 💾 Save and open map\n",
    "output_map = r\"C:\\Users\\sagni\\Downloads\\Road Traffic\\delhi_dynamic_least_congested_route.html\"\n",
    "m.save(output_map)\n",
    "print(f\"✅ Map saved as {output_map}\")\n",
    "\n",
    "# 🌐 Automatically open in default browser\n",
    "webbrowser.open(output_map)\n",
    "print(\"🌍 Opening map in your default browser...\")\n"
   ]
  },
  {
   "cell_type": "code",
   "execution_count": null,
   "id": "d1d89628-1e5a-4766-b8cc-0b8bbb20d4ab",
   "metadata": {},
   "outputs": [],
   "source": []
  }
 ],
 "metadata": {
  "kernelspec": {
   "display_name": "Python 3.11 (moviepy)",
   "language": "python",
   "name": "py311"
  },
  "language_info": {
   "codemirror_mode": {
    "name": "ipython",
    "version": 3
   },
   "file_extension": ".py",
   "mimetype": "text/x-python",
   "name": "python",
   "nbconvert_exporter": "python",
   "pygments_lexer": "ipython3",
   "version": "3.11.9"
  }
 },
 "nbformat": 4,
 "nbformat_minor": 5
}
